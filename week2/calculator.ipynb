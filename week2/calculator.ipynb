{
 "cells": [
  {
   "cell_type": "code",
   "execution_count": 2,
   "metadata": {
    "collapsed": true
   },
   "outputs": [],
   "source": [
    "corpus = 'This is the maiden all forlorn that milked the cow with the crumpled horn that tossed the dog that worried the cat that killed the rat that ate the malt.'\n",
    "corpus = corpus.lower()"
   ]
  },
  {
   "cell_type": "code",
   "execution_count": 3,
   "metadata": {
    "collapsed": true
   },
   "outputs": [],
   "source": [
    "#Count appearance of each word"
   ]
  },
  {
   "cell_type": "code",
   "execution_count": 4,
   "metadata": {
    "collapsed": true
   },
   "outputs": [],
   "source": [
    "one_gram = {}\n",
    "for word in corpus.split(' '):\n",
    "    if word in one_gram:\n",
    "        one_gram[word] += 1\n",
    "    else:\n",
    "        one_gram[word] = 1"
   ]
  },
  {
   "cell_type": "code",
   "execution_count": 5,
   "metadata": {
    "collapsed": true
   },
   "outputs": [],
   "source": [
    "bi_gram = {}\n",
    "list_of_words = corpus.split(' ')\n",
    "for (index, word) in enumerate(list_of_words):\n",
    "    if index == 0:\n",
    "        continue\n",
    "    bigram_word = list_of_words[index-1] + '_' + word\n",
    "    if bigram_word in bi_gram:\n",
    "        bi_gram[bigram_word] += 1\n",
    "    else:\n",
    "        bi_gram[bigram_word] = 1"
   ]
  },
  {
   "cell_type": "code",
   "execution_count": 6,
   "metadata": {
    "collapsed": true
   },
   "outputs": [],
   "source": [
    "test = 'This is the dog that tossed the cat that ate the malt.'\n",
    "test = test.lower()"
   ]
  },
  {
   "cell_type": "code",
   "execution_count": 7,
   "metadata": {
    "collapsed": true
   },
   "outputs": [],
   "source": [
    "P = 1\n",
    "list_of_test = test.split(' ')\n",
    "for (index, word) in enumerate(list_of_test):\n",
    "    if index == 0:\n",
    "        continue\n",
    "    bi_word = list_of_test[index-1] + '_' + word\n",
    "    P = P * bi_gram[bi_word]/one_gram[list_of_test[index-1]]"
   ]
  },
  {
   "cell_type": "code",
   "execution_count": 8,
   "metadata": {},
   "outputs": [
    {
     "data": {
      "text/plain": [
       "0.00011661807580174926"
      ]
     },
     "execution_count": 8,
     "metadata": {},
     "output_type": "execute_result"
    }
   ],
   "source": [
    "P"
   ]
  },
  {
   "cell_type": "code",
   "execution_count": null,
   "metadata": {
    "collapsed": true
   },
   "outputs": [],
   "source": []
  }
 ],
 "metadata": {
  "kernelspec": {
   "display_name": "Python 3",
   "language": "python",
   "name": "python3"
  },
  "language_info": {
   "codemirror_mode": {
    "name": "ipython",
    "version": 3
   },
   "file_extension": ".py",
   "mimetype": "text/x-python",
   "name": "python",
   "nbconvert_exporter": "python",
   "pygments_lexer": "ipython3",
   "version": "3.6.3"
  }
 },
 "nbformat": 4,
 "nbformat_minor": 2
}
